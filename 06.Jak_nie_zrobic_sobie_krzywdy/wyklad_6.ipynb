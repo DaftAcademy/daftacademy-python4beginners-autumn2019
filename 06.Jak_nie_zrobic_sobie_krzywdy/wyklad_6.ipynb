{
 "cells": [
  {
   "cell_type": "markdown",
   "metadata": {
    "slideshow": {
     "slide_type": "slide"
    }
   },
   "source": [
    "# Jak nie zrobić sobie krzywdy\n",
    "##  testy jednostkowe, pytest, tdd\n",
    "### Wojciech Łuszczyński\n",
    "#### Daft Academy Python4Beginners 17.XII.2019"
   ]
  },
  {
   "cell_type": "markdown",
   "metadata": {
    "slideshow": {
     "slide_type": "slide"
    }
   },
   "source": [
    "# 1. Testowanie kodu"
   ]
  },
  {
   "cell_type": "markdown",
   "metadata": {
    "slideshow": {
     "slide_type": "subslide"
    }
   },
   "source": [
    "## Co to jest testowanie?\n",
    "- uruchamianie kodu naszego programu w celu sprawdzenia, czy robi to, co powinien\n",
    "\n"
   ]
  },
  {
   "cell_type": "markdown",
   "metadata": {
    "slideshow": {
     "slide_type": "subslide"
    }
   },
   "source": [
    "### Program testing can be used to show the presence of bugs, but never to show their absence!\n",
    "Edsker D. Dijkstra (1970)"
   ]
  },
  {
   "cell_type": "markdown",
   "metadata": {
    "slideshow": {
     "slide_type": "subslide"
    }
   },
   "source": [
    "## Testy automatyczne \n",
    "- dodatkowe fragmenty programu, które uruchamiają nasz główny kod, a następnie porównują wyniki z oczekiwaniami\n",
    "- są szybkie do uruchomienia\n",
    "- są powtarzalne\n",
    "- wszyscy z zespołu są w stanie powtórzyć test"
   ]
  },
  {
   "cell_type": "markdown",
   "metadata": {
    "slideshow": {
     "slide_type": "subslide"
    }
   },
   "source": [
    "## Debugowanie\n",
    "- proces szukania błędu w kodzie, a następnie naprawiania go"
   ]
  },
  {
   "cell_type": "markdown",
   "metadata": {
    "slideshow": {
     "slide_type": "subslide"
    }
   },
   "source": [
    "## Dlaczego testujemy\n",
    "- testowanie pozwala upewnić się, że w wybranych przez nas warunkach wszystko działa tak jak chcemy\n",
    "- zmniejsza strach przed zmianami\n",
    "- łatwiejsze niż debugowanie!"
   ]
  },
  {
   "cell_type": "markdown",
   "metadata": {
    "slideshow": {
     "slide_type": "slide"
    }
   },
   "source": [
    "## Test Driven Development (TDD)\n",
    "1. napisać nieprzechodzący test\n",
    "2. zmienić kod w najłatwiejszy możliwy sposób żeby test przeszedł\n",
    "3. zrobić refactor"
   ]
  },
  {
   "cell_type": "markdown",
   "metadata": {
    "slideshow": {
     "slide_type": "subslide"
    }
   },
   "source": [
    "## Podstawowe testy jednostkowe w czystym python"
   ]
  },
  {
   "cell_type": "markdown",
   "metadata": {
    "slideshow": {
     "slide_type": "subslide"
    }
   },
   "source": [
    "### Zadanie z `assert`\n",
    "Napisać funkcję __flatten__, która dostaję listę zagnieżdżonych list i zwraca je jako listę na jednym poziomie.\n",
    "\n",
    "np. flatten([1, 2, 3, [4, 5]]) == [1, 2, 3, 4, 5]"
   ]
  },
  {
   "cell_type": "code",
   "execution_count": 4,
   "metadata": {
    "slideshow": {
     "slide_type": "fragment"
    }
   },
   "outputs": [],
   "source": [
    "assert flatten([1, 2, 3]) == [1, 2, 3]"
   ]
  },
  {
   "cell_type": "code",
   "execution_count": 5,
   "metadata": {
    "slideshow": {
     "slide_type": "fragment"
    }
   },
   "outputs": [],
   "source": [
    "assert flatten([]) == []"
   ]
  },
  {
   "cell_type": "code",
   "execution_count": 6,
   "metadata": {
    "slideshow": {
     "slide_type": "fragment"
    }
   },
   "outputs": [],
   "source": [
    "assert flatten([1, [2, 3], 4]) == [1, 2, 3, 4]"
   ]
  },
  {
   "cell_type": "code",
   "execution_count": 7,
   "metadata": {
    "slideshow": {
     "slide_type": "fragment"
    }
   },
   "outputs": [],
   "source": [
    "assert flatten([1, [2, 3], 4]) != [1, [2, 3], 4]"
   ]
  },
  {
   "cell_type": "code",
   "execution_count": 27,
   "metadata": {
    "slideshow": {
     "slide_type": "fragment"
    }
   },
   "outputs": [],
   "source": [
    "assert flatten([[1, 2, [3, 4, 5], [6], 7, 8], 9]) == [1, 2, 3, 4, 5, 6, 7, 8, 9]"
   ]
  },
  {
   "cell_type": "code",
   "execution_count": 2,
   "metadata": {
    "slideshow": {
     "slide_type": "subslide"
    }
   },
   "outputs": [],
   "source": [
    "def flatten(element):\n",
    "    return list(flatten_gen(element))"
   ]
  },
  {
   "cell_type": "code",
   "execution_count": 3,
   "metadata": {
    "slideshow": {
     "slide_type": "fragment"
    }
   },
   "outputs": [],
   "source": [
    "def flatten_gen(element):\n",
    "    for e in element:\n",
    "        if isinstance(e, list):\n",
    "            for e_elem in flatten_gen(e):\n",
    "                yield e_elem\n",
    "        else:\n",
    "            yield e"
   ]
  },
  {
   "cell_type": "code",
   "execution_count": 11,
   "metadata": {
    "slideshow": {
     "slide_type": "subslide"
    }
   },
   "outputs": [],
   "source": [
    "assert flatten([1, 2, 3]) == [1, 2, 3]\n",
    "assert flatten([1, [2, 3], 4]) == [1, 2, 3, 4]\n",
    "assert flatten([]) == []\n",
    "assert flatten([[1, 2, [3, 4, 5], [6], 7, 8], 9]) == [1, 2, 3, 4, 5, 6, 7, 8, 9]\n",
    "assert flatten([1, [2, 3], 4]) != [1, [2, 3], 4]"
   ]
  },
  {
   "cell_type": "code",
   "execution_count": 12,
   "metadata": {
    "slideshow": {
     "slide_type": "fragment"
    }
   },
   "outputs": [
    {
     "ename": "AssertionError",
     "evalue": "",
     "output_type": "error",
     "traceback": [
      "\u001b[0;31m---------------------------------------------------------------------------\u001b[0m",
      "\u001b[0;31mAssertionError\u001b[0m                            Traceback (most recent call last)",
      "\u001b[0;32m<ipython-input-12-3273da0c0aa4>\u001b[0m in \u001b[0;36m<module>\u001b[0;34m\u001b[0m\n\u001b[0;32m----> 1\u001b[0;31m \u001b[0;32massert\u001b[0m \u001b[0mflatten\u001b[0m\u001b[0;34m(\u001b[0m\u001b[0;34m[\u001b[0m\u001b[0;36m1\u001b[0m\u001b[0;34m,\u001b[0m \u001b[0;34m[\u001b[0m\u001b[0;36m2\u001b[0m\u001b[0;34m,\u001b[0m \u001b[0;36m3\u001b[0m\u001b[0;34m]\u001b[0m\u001b[0;34m,\u001b[0m \u001b[0;36m4\u001b[0m\u001b[0;34m]\u001b[0m\u001b[0;34m)\u001b[0m \u001b[0;34m==\u001b[0m \u001b[0;34m[\u001b[0m\u001b[0;36m1\u001b[0m\u001b[0;34m,\u001b[0m \u001b[0;34m[\u001b[0m\u001b[0;36m2\u001b[0m\u001b[0;34m,\u001b[0m \u001b[0;36m3\u001b[0m\u001b[0;34m]\u001b[0m\u001b[0;34m,\u001b[0m \u001b[0;36m4\u001b[0m\u001b[0;34m]\u001b[0m\u001b[0;34m\u001b[0m\u001b[0;34m\u001b[0m\u001b[0m\n\u001b[0m",
      "\u001b[0;31mAssertionError\u001b[0m: "
     ]
    }
   ],
   "source": [
    "assert flatten([1, [2, 3], 4]) == [1, [2, 3], 4]"
   ]
  },
  {
   "cell_type": "markdown",
   "metadata": {
    "slideshow": {
     "slide_type": "subslide"
    }
   },
   "source": [
    "## Assert\n",
    "- `assert` jest częścią składni pythona nie funkcją\n",
    "- jego działanie zwraca None jeśli wynik operacji poprzedzony assertem rzutuje na prawdę logiczną.\n",
    "- jeśli wynik operacji po assercie jest Fałszem, rzucany jest wyjątek `AssertionError`\n",
    "- nie zaleca się umieszczać assertów w kodzie programu a jedynie w testach\n",
    "- można globalnie wyłączyć dla projektu w trakcie działania zdolność asserów do rzucania wyjątkiem:\n",
    " - `python -O <file.py>` włącza __basic optimizations__.\n",
    " - `python -OO <file.py>` dodtkowo ucinka Doc Stringi dla szybszego przetwarzania i minimalizacji rozmiaru bytecodu."
   ]
  },
  {
   "cell_type": "markdown",
   "metadata": {
    "slideshow": {
     "slide_type": "slide"
    }
   },
   "source": [
    "## Jeden poziom wyżej dla pythonowych testów: `unittest`"
   ]
  },
  {
   "cell_type": "markdown",
   "metadata": {
    "slideshow": {
     "slide_type": "subslide"
    }
   },
   "source": [
    "## Unittest\n",
    "- Umieszczony w bibliotece standardowej `python` nie wymaga żadnych dodatkowych zależności\n",
    "- Można tworzyć pełne scenariusze testowe\n",
    "- Można organizować kod testów w klasy\n",
    "- Rozbudowane opcje różnych asercji\n",
    "- Bardzo łatwy i przejrzysty"
   ]
  },
  {
   "cell_type": "markdown",
   "metadata": {
    "slideshow": {
     "slide_type": "subslide"
    }
   },
   "source": [
    "### Przykład wykonania prostych funkcji testów"
   ]
  },
  {
   "cell_type": "code",
   "execution_count": 28,
   "metadata": {
    "slideshow": {
     "slide_type": "subslide"
    }
   },
   "outputs": [],
   "source": [
    "def test_flatten_not_nested_list():\n",
    "    test_list = [1, 2, 3]\n",
    "    result = flatten(test_list)\n",
    "    assert result == [1, 2, 3]"
   ]
  },
  {
   "cell_type": "code",
   "execution_count": 29,
   "metadata": {
    "slideshow": {
     "slide_type": "fragment"
    }
   },
   "outputs": [],
   "source": [
    "def test_flatten_nested_list():\n",
    "    test_list = [1, [2, 3], 4]\n",
    "    result = flatten(test_list)\n",
    "    assert result == [1, 2, 3, 4]"
   ]
  },
  {
   "cell_type": "code",
   "execution_count": 30,
   "metadata": {
    "slideshow": {
     "slide_type": "fragment"
    }
   },
   "outputs": [],
   "source": [
    "def test_flatten_empty_list():\n",
    "    test_list = []\n",
    "    result = flatten(test_list)\n",
    "    assert result == []"
   ]
  },
  {
   "cell_type": "code",
   "execution_count": 31,
   "metadata": {
    "slideshow": {
     "slide_type": "fragment"
    }
   },
   "outputs": [],
   "source": [
    "def test_flatten_different_nestings():\n",
    "    test_list = [[1, 2, [3, 4, 5], [6], 7, 8], 9]\n",
    "    result = flactten(test_list)\n",
    "    assert result == [1, 2, 3, 4, 5, 6, 7, 8, 9]"
   ]
  },
  {
   "cell_type": "markdown",
   "metadata": {
    "slideshow": {
     "slide_type": "subslide"
    }
   },
   "source": [
    "### Przykład opakowania przykładowego pliku z testami"
   ]
  },
  {
   "cell_type": "code",
   "execution_count": 32,
   "metadata": {
    "slideshow": {
     "slide_type": "fragment"
    }
   },
   "outputs": [
    {
     "name": "stderr",
     "output_type": "stream",
     "text": [
      "..\n",
      "----------------------------------------------------------------------\n",
      "Ran 2 tests in 0.001s\n",
      "\n",
      "OK\n"
     ]
    }
   ],
   "source": [
    "import unittest\n",
    "\n",
    "class Tests(unittest.TestCase):\n",
    "    \"\"\"Main Test class.\"\"\"\n",
    "\n",
    "    def test_flatten_not_nested_list(self):\n",
    "        test_list = [1, 2, 3]\n",
    "        result = flatten(test_list)\n",
    "        assert result == [1, 2, 3]\n",
    "        \n",
    "    def test_flatten_proper_input(self):\n",
    "        test_list = 1\n",
    "        with self.assertRaises(TypeError):\n",
    "            result = flatten(test_list)\n",
    "\n",
    "if __name__ == '__main__':\n",
    "    unittest.main(argv=['first-arg-is-ignored'], exit=False)"
   ]
  },
  {
   "cell_type": "markdown",
   "metadata": {
    "slideshow": {
     "slide_type": "slide"
    }
   },
   "source": [
    "## Kolejny poziom wyżej dla pythonowych testów zautomatyzowanych:  `pytest`"
   ]
  },
  {
   "cell_type": "markdown",
   "metadata": {
    "slideshow": {
     "slide_type": "subslide"
    }
   },
   "source": [
    "__Pytest__ jest dodatkowym pakietem Python który możemy zainstalować z PyPI\n",
    "1. Tworzymy nowy virtualenv\n",
    "2. Aktywujemy go\n",
    "3. Instalujemy z __pytest__"
   ]
  },
  {
   "cell_type": "markdown",
   "metadata": {
    "slideshow": {
     "slide_type": "subslide"
    }
   },
   "source": [
    "Tworzymy nowe środowisko z `pipenv` od razu instalując `pytest`: \n",
    "```\n",
    "mkdir testing_project\n",
    "cd testing_project\n",
    "pipenv install pytest\n",
    "```"
   ]
  },
  {
   "cell_type": "markdown",
   "metadata": {
    "slideshow": {
     "slide_type": "subslide"
    }
   },
   "source": [
    "__`pytest`__: Framework do testowania:\n",
    "- ułatwia pisanie i organizację testów\n",
    "- daje narzędzie do odpalania i wyszukiwania testów\n",
    "- wyświetla wyniki w ładnej formie\n",
    "\n",
    "http://pythontesting.net/framework/pytest/pytest-introduction/"
   ]
  },
  {
   "cell_type": "markdown",
   "metadata": {
    "slideshow": {
     "slide_type": "subslide"
    }
   },
   "source": [
    "Tak przygotowane testy możemy uruchomić komendą:\n",
    "```\n",
    "pytest\n",
    "```"
   ]
  },
  {
   "cell_type": "markdown",
   "metadata": {
    "slideshow": {
     "slide_type": "fragment"
    }
   },
   "source": [
    "Samo wywołanie `pytest` uruchomi wszystkie testy w projekcie.\n",
    "Można też wykonać konkretny plik z testami:\n",
    "```\n",
    "python -m pytest test_pytest.py\n",
    "pytest test_pytest.py\n",
    "```"
   ]
  },
  {
   "cell_type": "markdown",
   "metadata": {
    "slideshow": {
     "slide_type": "subslide"
    }
   },
   "source": [
    "- Testy można organizować w klasy\n",
    "- Pytest posiada bardzo rozbudowane możliwości asercji, fixtur i innych przydatnych narzędzi\n",
    "- Pytest uruchomi też testy napisane w Unittest. Wystarczy podać nazwę pliku lub jeśli plik zaczyna się od słowa `test` pytest sam znajdzie i uruchomi wszystkie testy."
   ]
  },
  {
   "cell_type": "code",
   "execution_count": 33,
   "metadata": {
    "slideshow": {
     "slide_type": "skip"
    }
   },
   "outputs": [
    {
     "name": "stdout",
     "output_type": "stream",
     "text": [
      "The ipython_pytest extension is already loaded. To reload it, use:\n",
      "  %reload_ext ipython_pytest\n"
     ]
    }
   ],
   "source": [
    "%load_ext ipython_pytest"
   ]
  },
  {
   "cell_type": "code",
   "execution_count": 34,
   "metadata": {
    "slideshow": {
     "slide_type": "subslide"
    }
   },
   "outputs": [
    {
     "name": "stdout",
     "output_type": "stream",
     "text": [
      "============================= test session starts ==============================\n",
      "platform linux -- Python 3.7.1, pytest-4.0.1, py-1.7.0, pluggy-0.8.0\n",
      "rootdir: /tmp/tmp08n2_d1c, inifile:\n",
      "plugins: pudb-0.6, ipdb-0.1\n",
      "collected 9 items\n",
      "\n",
      "_ipytesttmp.py .........                                                 [100%]\n",
      "\n",
      "=============================== warnings summary ===============================\n",
      "/home/wojtek/.virtualenvs/p4b/lib/python3.7/site-packages/_pytest/config/__init__.py:754\n",
      "  /home/wojtek/.virtualenvs/p4b/lib/python3.7/site-packages/_pytest/config/__init__.py:754: PytestWarning: Module already imported so cannot be rewritten: pytest_pudb\n",
      "    self._mark_plugins_for_rewrite(hook)\n",
      "  /home/wojtek/.virtualenvs/p4b/lib/python3.7/site-packages/_pytest/config/__init__.py:754: PytestWarning: Module already imported so cannot be rewritten: pytestipdb\n",
      "    self._mark_plugins_for_rewrite(hook)\n",
      "\n",
      "-- Docs: https://docs.pytest.org/en/latest/warnings.html\n",
      "===================== 9 passed, 2 warnings in 0.07 seconds =====================\n"
     ]
    }
   ],
   "source": [
    "%%pytest --ignore=warning\n",
    "import operator\n",
    "import pytest\n",
    "\n",
    "def value_comparator(field_name: str, data: dict, rule: dict) -> bool:\n",
    "    all_operators_checks = list()\n",
    "    for constraint_name, check_operator in {\n",
    "        f\"{field_name}__lt\": operator.lt,\n",
    "        f\"{field_name}__lte\": operator.le,\n",
    "        f\"{field_name}__gt\": operator.gt,\n",
    "        f\"{field_name}__gte\": operator.ge,\n",
    "        f\"{field_name}\": operator.eq,\n",
    "    }.items():\n",
    "        constraint_value = rule[\"rule\"].get(constraint_name)\n",
    "        if constraint_value is not None:\n",
    "            all_operators_checks.append(\n",
    "                check_operator(data[field_name], constraint_value)\n",
    "            )\n",
    "    return all(all_operators_checks) if all_operators_checks else True\n",
    "\n",
    "@pytest.mark.parametrize(\n",
    "    \"field_name, rule_value, value, result\",\n",
    "    [\n",
    "        [\"bla\", {\"bla__gt\": 10}, 11, True],\n",
    "        [\"bla\", {\"bla__gt\": 10}, 9, False],\n",
    "        [\"foo\", {\"foo__gte\": 10, \"foo__lte\": 10}, 10, True],\n",
    "        [\"foo\", {\"foo__lt\": 3, \"foo__gt\": 5}, 10, False],\n",
    "        [\"bla\", {\"bla__lt\": 5, \"bla__gt\": 3}, 4, True],\n",
    "        [\"bla\", {\"bla__lt\": 10, \"bla__lte\": 10}, 10, False],\n",
    "        [\"bar\", {\"bar\": 5}, 5, True],\n",
    "        [\"bar\", {\"bar\": 5}, 10, False],\n",
    "        [\"bar\", {\"bar__unknow\": 5}, 10, True],\n",
    "    ],\n",
    ")\n",
    "def test_value_comparator(field_name: str, rule_value: dict, value, result: bool):\n",
    "    rule = {\"rule\": rule_value}\n",
    "    data = {field_name: value}\n",
    "    assert value_comparator(field_name, data, rule) == result"
   ]
  },
  {
   "cell_type": "markdown",
   "metadata": {
    "slideshow": {
     "slide_type": "slide"
    }
   },
   "source": [
    "# 2. Metodologia testowania"
   ]
  },
  {
   "cell_type": "markdown",
   "metadata": {
    "slideshow": {
     "slide_type": "subslide"
    }
   },
   "source": [
    "## Podejście do testowania projektu\n",
    "- Tak dużo jak jest projektów tak dużo i podejść do testowania. Standaryzacja musiała kiedyś nadejść. Jest nawet dokument ISO mówiący od testowaniu:\n",
    "http://www.softwaretestingstandard.org/part2.php\n",
    "- W pythonie zazwyczaj piszemy 2 typy testów:\n",
    "    - jednostkowe\n",
    "    - integracyjne\n",
    "- Wyróżniamy jeszcze testy:\n",
    "    - systemowe\n",
    "    - akceptacyjne"
   ]
  },
  {
   "cell_type": "markdown",
   "metadata": {
    "slideshow": {
     "slide_type": "subslide"
    }
   },
   "source": [
    "### Testy __jednostkowe__\n",
    "- zwane też modułowymi\n",
    "- testują funkcjonalność pojedynczych metod, klas, modułów\n",
    "- w projekcie jest ich zazwyczaj najwięcej"
   ]
  },
  {
   "cell_type": "markdown",
   "metadata": {
    "slideshow": {
     "slide_type": "subslide"
    }
   },
   "source": [
    "### Testy __integracyjne__\n",
    "- testują zależności pomiędzy modułami\n",
    "- wprowadzają scenariusz testów który w ramach jednego testu integracyjnego uruchamia wiele testów jednostkowych\n",
    "- testują konkretne przypadki użycia programu\n",
    "- w projekcie jest ich zazwyczaj znacznie mniej niż testów jednostkowych"
   ]
  },
  {
   "cell_type": "markdown",
   "metadata": {
    "slideshow": {
     "slide_type": "subslide"
    }
   },
   "source": [
    "### Testy __systemowe__ oraz __akceptacyjne__\n",
    "- testy systemowe\n",
    "    - mają na celu sprawdzenie działania programu w danym środowisku\n",
    "    - sprawdzają poprawność działania w danej architekturze (też i wirtualnej)\n",
    "\n",
    "\n",
    "- testy akceptacyjne\n",
    "    - raczej testy nie automatyczne\n",
    "    - sprawdzają poziom satysfakcji z działania programu\n",
    "    - sprawdzają konkretne przypadki użycia\n",
    "   "
   ]
  },
  {
   "cell_type": "markdown",
   "metadata": {
    "slideshow": {
     "slide_type": "slide"
    }
   },
   "source": [
    "# Dobre testy\n",
    "- szybkie\n",
    "- zautomatyzowane\n",
    "- przewidywalne\n",
    "- dające dobrą informację zwrotną\n",
    "- skupiające się na jednym aspekcie na raz\n",
    "- dobrze izolowane\n",
    "- przemyślane i zadbane"
   ]
  },
  {
   "cell_type": "markdown",
   "metadata": {
    "slideshow": {
     "slide_type": "subslide"
    }
   },
   "source": [
    "# Izolacja testów\n",
    "- testy nie powinny mieć wpływu na siebie nawzajem\n",
    "- błąd w jednym teście nie przerywa wykonania testów\n",
    "- każdy test powinien przejść zarówno uruchomiony pojedynczo jak i w grupie\n",
    "- testy powinny być na tyle izolowane że mogą przejść w dowolnej kolejności"
   ]
  },
  {
   "cell_type": "markdown",
   "metadata": {
    "slideshow": {
     "slide_type": "subslide"
    }
   },
   "source": [
    "# Więcej niż testowanie działania programu\n",
    "- Flake8: Sprawdza poprawność pisowni ze standardem PEP8 i innymi standardowymi guidelineami.\n",
    "- mypy: Analizuje typy danych w kodzie nie uruchamiając go. Potrafi wykryć potencjalne błędy.\n",
    "- isort: Sprawdza poprawność sortowania importów z modułów w naszym kodzie\n",
    "- black: Automatyczny linter który w jednoznaczy sposób wyznacza sposób pisowni, deterministyczny i bardzo przydatny w pracy zespołowej."
   ]
  },
  {
   "cell_type": "markdown",
   "metadata": {
    "slideshow": {
     "slide_type": "slide"
    }
   },
   "source": [
    "# 3.Mockowanie"
   ]
  },
  {
   "cell_type": "markdown",
   "metadata": {
    "slideshow": {
     "slide_type": "subslide"
    }
   },
   "source": [
    "## Mock\n",
    "- zachowuje się jak dowolny obiekt\n",
    "- zapisuje co się z nim dzieje (jakie akcje sę na nim wykonywane itp)\n",
    "- można na nim później wywołać assert\n",
    "- łatwiej popsuć testy, bo polegamy na dokładnej implementacji danego kawałka\n",
    "- używamy z `with` ! źle wykonane mokowanie które zmienia wbudowany moduł może rzutować na zachowanie całego projektu\n",
    "\n",
    "\n",
    "https://docs.python.org/3/library/unittest.mock.html"
   ]
  },
  {
   "cell_type": "markdown",
   "metadata": {
    "slideshow": {
     "slide_type": "subslide"
    }
   },
   "source": [
    "### Przed mockowaniem"
   ]
  },
  {
   "cell_type": "code",
   "execution_count": 19,
   "metadata": {
    "slideshow": {
     "slide_type": "-"
    }
   },
   "outputs": [],
   "source": [
    "import random\n",
    "from unittest.mock import patch"
   ]
  },
  {
   "cell_type": "code",
   "execution_count": 20,
   "metadata": {
    "slideshow": {
     "slide_type": "-"
    }
   },
   "outputs": [
    {
     "name": "stdout",
     "output_type": "stream",
     "text": [
      "0.8600666052423614\n",
      "0.41018749750748695\n",
      "0.8652709391735295\n"
     ]
    }
   ],
   "source": [
    "for i in range(3):\n",
    "    print(random.random())"
   ]
  },
  {
   "cell_type": "markdown",
   "metadata": {
    "slideshow": {
     "slide_type": "subslide"
    }
   },
   "source": [
    "### Zamockowany random"
   ]
  },
  {
   "cell_type": "code",
   "execution_count": 21,
   "metadata": {
    "slideshow": {
     "slide_type": "-"
    }
   },
   "outputs": [
    {
     "name": "stdout",
     "output_type": "stream",
     "text": [
      "\n",
      "0.05\n",
      "0.05\n",
      "0.05\n"
     ]
    }
   ],
   "source": [
    "with patch('random.random') as mock_random:\n",
    "    print('')\n",
    "    mock_random.return_value = 0.05\n",
    "    for i in range(3):\n",
    "        print(random.random())"
   ]
  },
  {
   "cell_type": "markdown",
   "metadata": {
    "slideshow": {
     "slide_type": "subslide"
    }
   },
   "source": [
    "### Po mockowaniu"
   ]
  },
  {
   "cell_type": "code",
   "execution_count": 22,
   "metadata": {
    "slideshow": {
     "slide_type": "-"
    }
   },
   "outputs": [
    {
     "name": "stdout",
     "output_type": "stream",
     "text": [
      "0.6777014194366705\n",
      "0.2046657507816847\n",
      "0.2520903394325754\n"
     ]
    }
   ],
   "source": [
    "for i in range(3):\n",
    "    print(random.random())"
   ]
  },
  {
   "cell_type": "markdown",
   "metadata": {
    "slideshow": {
     "slide_type": "subslide"
    }
   },
   "source": [
    "# 4.Debugowanie - jak sobie z tym radzić\n",
    "- najprostszy sposób - wstawianie printów do kodu\n",
    "- lepszy sposób - użycie interaktywnego debuggera"
   ]
  },
  {
   "cell_type": "markdown",
   "metadata": {
    "slideshow": {
     "slide_type": "fragment"
    }
   },
   "source": [
    "Debugger jest dostępny w bibliotece standardowej:\n",
    "\n",
    "https://docs.python.org/3.7/library/pdb.html\n",
    "\n",
    "https://github.com/nblock/pdb-cheatsheet"
   ]
  },
  {
   "cell_type": "code",
   "execution_count": 38,
   "metadata": {
    "slideshow": {
     "slide_type": "subslide"
    }
   },
   "outputs": [],
   "source": [
    "def test_function():\n",
    "    ...\n",
    "    import pdb;pdb.set_trace()"
   ]
  },
  {
   "cell_type": "code",
   "execution_count": 24,
   "metadata": {
    "slideshow": {
     "slide_type": "fragment"
    }
   },
   "outputs": [],
   "source": [
    "def test_function():\n",
    "    ...\n",
    "    breakpoint()"
   ]
  },
  {
   "cell_type": "markdown",
   "metadata": {
    "slideshow": {
     "slide_type": "fragment"
    }
   },
   "source": [
    "- `pdb` można importować dosłownie wszędzie, nie musi być to konkretny testcase\n",
    "- na `breakpoint` wykonanie programu zostaje wstrzymane i czeka na interakcję ze strony użytkownika\n",
    "- dla `pdb` powstało wiele alternatyw, warto skorzystać np z `ipdb`, biblioteki spokrewnionej z `ipython`. Ma tę samą składnie ale dodatkowo koloruje output i poprawia nawigację po kodzie w trakcie debugowania.\n",
    "- UWAGA! zawsze usuwać brakepointy przed commitowaniem kodu do repozytorium !!\n",
    "- Warto napisać Githook który wykrywa użycie PDB w kodzie i uniemożliwia commitowanie kodu"
   ]
  },
  {
   "cell_type": "code",
   "execution_count": null,
   "metadata": {
    "slideshow": {
     "slide_type": "subslide"
    }
   },
   "outputs": [],
   "source": [
    "#!/bin/bash\n",
    "# based on http://www.snip2code.com/Snippet/165926/Check-for-ipdb-breakpoints-git-hook\n",
    "\n",
    "pdb_check=$(git grep -E -n '[ ;]i?pdb')\n",
    "if [ ${#pdb_check} -gt 0 ]\n",
    "then\n",
    "        echo \"COMMIT REJECTED: commit contains code with break points.\"\n",
    "        echo $pdb_check\n",
    "        exit 1\n",
    "else\n",
    "        echo \"Code contains no break points\"\n",
    "fi\n",
    "exit 0"
   ]
  }
 ],
 "metadata": {
  "kernelspec": {
   "display_name": "Python 3",
   "language": "python",
   "name": "python3"
  },
  "language_info": {
   "codemirror_mode": {
    "name": "ipython",
    "version": 3
   },
   "file_extension": ".py",
   "mimetype": "text/x-python",
   "name": "python",
   "nbconvert_exporter": "python",
   "pygments_lexer": "ipython3",
   "version": "3.7.1"
  },
  "toc-autonumbering": false,
  "toc-showcode": false,
  "toc-showmarkdowntxt": false,
  "toc-showtags": false
 },
 "nbformat": 4,
 "nbformat_minor": 2
}
