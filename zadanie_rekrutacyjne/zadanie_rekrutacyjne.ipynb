{
 "cells": [
  {
   "cell_type": "markdown",
   "metadata": {},
   "source": [
    "# Rekrutacja na Daft Acadamy Python 4 Beginers\n",
    "## Wprowadzenie:\n",
    "\n",
    "Jesteś pracownikiem firmy spedycyjnej \"TEU Logistics\".\n",
    "Twoja firma zajmuje się przewozem morskim kontenerów po całym świecie.\n",
    "Dostałes plik z danymi (CSV) w którym są aktualnie transportowane kontenery.\n",
    "W pierwszym wierszu, w każdej kolumnie podany jest numer, nazwa i klasa statku który przewozi ładunek.\n",
    "W kolejnych wierszach w każdej kolumnie są podane dane kontenera znajdującego się na pokładzie wraz z kowotą jaka została pobrana za przewóz kontenera.\n",
    "\n",
    "### Szczegóły:\n",
    "Nazwa statku jest w formacie:\n",
    " - __nn: xxxxxx (ttttttt)__\n",
    " \n",
    "gdzie:\n",
    " - __nn__: id statku\n",
    " - __xxxxxx__: nazwa statku\n",
    " - __tttttt__: klasa statku\n",
    "\n",
    "Każdy kontener ma numer nadany w formacie:\n",
    "- aa-bb-cccccccc/yyyy/xx@ddddddddd.ee\n",
    "\n",
    "gdzie:\n",
    "- __aa__ - kraj pochodzenia kontenera\n",
    "- __bb__ - kraj docelowy kontenera\n",
    "- __ccccccccc__ - numer kontenera\n",
    "- __yyyy__ - waga kontenera w kilogramach (cyfrowo 0001-9999)\n",
    "- __xx__ - typ ładunku w kontenrze (A0-Z9)\n",
    "- __dddddddd.ee__ - nazwa i kraj pochodzenia firmy która nadaje kontener\n",
    "- długość pół __cccccc__, __dddddd__ nie jest stała\n",
    "- pl-jp-2343432/2201/A1@companyname.pl oraz pl-jp-1223123/2201/A1@companyname.de to konentery 2 różnych firm.\n",
    "\n",
    "Rekord jest połączeniem numeru kontenera i kwoty w formacie:\n",
    "- numer/kwota:\n",
    " - pl-jp-2343432/3100/Z1@companyname.pl/83427\n",
    "\n",
    "Z powodów takich jak różne kontrakty, terminy, kolejność załadunku, waga i rodzaj ładunku cena wysyłki kontenera jest bardzo różna.\n",
    "Zauważ że kraj pochodzenia i destynacji kontenera nie jest tożsamy z portem dodelowym dla kontenera.\n",
    "\n",
    "CSV:\n",
    "Rekordy odzielone są od siebie znakiem średnika ';' a wiersze znakiem nowej linii '\\n'\n",
    "\n",
    "## Zadanie rekrutacyjne 1:\n",
    "Ile kontenerów finalnie trafi do Japonii?\n",
    "\n",
    "## Zadanie rekrutacyjne 2:\n",
    "Jaka klasa statku średnio przewozi najwięcej kontenerów?\n",
    "\n",
    "## Zadanie rekrutacyjne 3:\n",
    "Jaka jest średnia waga kontenera z materiałami łatwopalnymi (X1) z dokładnością do 1 kg np: 1234 (zaokrągląne w górę)?\n",
    "\n",
    "## Zadanie rekrutacyjne 4:\n",
    "Która firma w Polsce wysyła najwięcej kontenerów?\n",
    "\n",
    "## Zadanie rekrutacyjne 5:\n",
    "Jakiego typu ładunek o największej wartości (stosunek wagi do ceny) exportują Niemickie firmy z niemczech?"
   ]
  }
 ],
 "metadata": {
  "kernelspec": {
   "display_name": "Python 3",
   "language": "python",
   "name": "python3"
  },
  "language_info": {
   "codemirror_mode": {
    "name": "ipython",
    "version": 3
   },
   "file_extension": ".py",
   "mimetype": "text/x-python",
   "name": "python",
   "nbconvert_exporter": "python",
   "pygments_lexer": "ipython3",
   "version": "3.7.1"
  }
 },
 "nbformat": 4,
 "nbformat_minor": 2
}
